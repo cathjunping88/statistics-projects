{
 "cells": [
  {
   "cell_type": "markdown",
   "metadata": {},
   "source": [
    "# What is the True Normal Human Body Temperature? \n",
    "\n",
    "#### Background\n",
    "\n",
    "The mean normal body temperature was held to be 37$^{\\circ}$C or 98.6$^{\\circ}$F for more than 120 years since it was first conceptualized and reported by Carl Wunderlich in a famous 1868 book. But, is this value statistically correct?"
   ]
  },
  {
   "cell_type": "markdown",
   "metadata": {},
   "source": [
    "<h3>Exercises</h3>\n",
    "\n",
    "<p>In this exercise, you will analyze a dataset of human body temperatures and employ the concepts of hypothesis testing, confidence intervals, and statistical significance.</p>\n",
    "\n",
    "<p>Answer the following questions <b>in this notebook below and submit to your Github account</b>.</p> \n",
    "\n",
    "<ol>\n",
    "<li>  Is the distribution of body temperatures normal? \n",
    "    <ul>\n",
    "    <li> Although this is not a requirement for the Central Limit Theorem to hold (read the introduction on Wikipedia's page about the CLT carefully: https://en.wikipedia.org/wiki/Central_limit_theorem), it gives us some peace of mind that the population may also be normally distributed if we assume that this sample is representative of the population.\n",
    "    <li> Think about the way you're going to check for the normality of the distribution. Graphical methods are usually used first, but there are also other ways: https://en.wikipedia.org/wiki/Normality_test\n",
    "    </ul>\n",
    "<li>  Is the sample size large? Are the observations independent?\n",
    "    <ul>\n",
    "    <li> Remember that this is a condition for the Central Limit Theorem, and hence the statistical tests we are using, to apply.\n",
    "    </ul>\n",
    "<li>  Is the true population mean really 98.6 degrees F?\n",
    "    <ul>\n",
    "    <li> First, try a bootstrap hypothesis test.\n",
    "    <li> Now, let's try frequentist statistical testing. Would you use a one-sample or two-sample test? Why?\n",
    "    <li> In this situation, is it appropriate to use the $t$ or $z$ statistic? \n",
    "    <li> Now try using the other test. How is the result be different? Why?\n",
    "    </ul>\n",
    "<li>  Draw a small sample of size 10 from the data and repeat both frequentist tests. \n",
    "    <ul>\n",
    "    <li> Which one is the correct one to use? \n",
    "    <li> What do you notice? What does this tell you about the difference in application of the $t$ and $z$ statistic?\n",
    "    </ul>\n",
    "<li>  At what temperature should we consider someone's temperature to be \"abnormal\"?\n",
    "    <ul>\n",
    "    <li> As in the previous example, try calculating everything using the boostrap approach, as well as the frequentist approach.\n",
    "    <li> Start by computing the margin of error and confidence interval. When calculating the confidence interval, keep in mind that you should use the appropriate formula for one draw, and not N draws.\n",
    "    </ul>\n",
    "<li>  Is there a significant difference between males and females in normal temperature?\n",
    "    <ul>\n",
    "    <li> What testing approach did you use and why?\n",
    "    <li> Write a story with your conclusion in the context of the original problem.\n",
    "    </ul>\n",
    "</ol>\n",
    "\n",
    "You can include written notes in notebook cells using Markdown: \n",
    "   - In the control panel at the top, choose Cell > Cell Type > Markdown\n",
    "   - Markdown syntax: http://nestacms.com/docs/creating-content/markdown-cheat-sheet\n",
    "\n",
    "#### Resources\n",
    "\n",
    "+ Information and data sources: http://www.amstat.org/publications/jse/datasets/normtemp.txt, http://www.amstat.org/publications/jse/jse_data_archive.htm\n",
    "+ Markdown syntax: http://nestacms.com/docs/creating-content/markdown-cheat-sheet\n",
    "\n",
    "****"
   ]
  },
  {
   "cell_type": "code",
   "execution_count": 7,
   "metadata": {},
   "outputs": [],
   "source": [
    "#your work here\n",
    "1. Is the distribution of body temperatures normal? "
   ]
  },
  {
   "cell_type": "code",
   "execution_count": 3,
   "metadata": {},
   "outputs": [],
   "source": [
    "import pandas as pd\n",
    "import numpy as np\n",
    "import matplotlib.pyplot as plt\n",
    "from scipy import stats\n",
    "\n",
    "df = pd.read_csv('human_body_temperature.csv')"
   ]
  },
  {
   "cell_type": "code",
   "execution_count": 4,
   "metadata": {},
   "outputs": [
    {
     "data": {
      "text/html": [
       "<div>\n",
       "<style scoped>\n",
       "    .dataframe tbody tr th:only-of-type {\n",
       "        vertical-align: middle;\n",
       "    }\n",
       "\n",
       "    .dataframe tbody tr th {\n",
       "        vertical-align: top;\n",
       "    }\n",
       "\n",
       "    .dataframe thead th {\n",
       "        text-align: right;\n",
       "    }\n",
       "</style>\n",
       "<table border=\"1\" class=\"dataframe\">\n",
       "  <thead>\n",
       "    <tr style=\"text-align: right;\">\n",
       "      <th></th>\n",
       "      <th>temperature</th>\n",
       "      <th>heart_rate</th>\n",
       "    </tr>\n",
       "  </thead>\n",
       "  <tbody>\n",
       "    <tr>\n",
       "      <th>count</th>\n",
       "      <td>130.000000</td>\n",
       "      <td>130.000000</td>\n",
       "    </tr>\n",
       "    <tr>\n",
       "      <th>mean</th>\n",
       "      <td>98.249231</td>\n",
       "      <td>73.761538</td>\n",
       "    </tr>\n",
       "    <tr>\n",
       "      <th>std</th>\n",
       "      <td>0.733183</td>\n",
       "      <td>7.062077</td>\n",
       "    </tr>\n",
       "    <tr>\n",
       "      <th>min</th>\n",
       "      <td>96.300000</td>\n",
       "      <td>57.000000</td>\n",
       "    </tr>\n",
       "    <tr>\n",
       "      <th>25%</th>\n",
       "      <td>97.800000</td>\n",
       "      <td>69.000000</td>\n",
       "    </tr>\n",
       "    <tr>\n",
       "      <th>50%</th>\n",
       "      <td>98.300000</td>\n",
       "      <td>74.000000</td>\n",
       "    </tr>\n",
       "    <tr>\n",
       "      <th>75%</th>\n",
       "      <td>98.700000</td>\n",
       "      <td>79.000000</td>\n",
       "    </tr>\n",
       "    <tr>\n",
       "      <th>max</th>\n",
       "      <td>100.800000</td>\n",
       "      <td>89.000000</td>\n",
       "    </tr>\n",
       "  </tbody>\n",
       "</table>\n",
       "</div>"
      ],
      "text/plain": [
       "       temperature  heart_rate\n",
       "count   130.000000  130.000000\n",
       "mean     98.249231   73.761538\n",
       "std       0.733183    7.062077\n",
       "min      96.300000   57.000000\n",
       "25%      97.800000   69.000000\n",
       "50%      98.300000   74.000000\n",
       "75%      98.700000   79.000000\n",
       "max     100.800000   89.000000"
      ]
     },
     "execution_count": 4,
     "metadata": {},
     "output_type": "execute_result"
    }
   ],
   "source": [
    "df.describe()"
   ]
  },
  {
   "cell_type": "code",
   "execution_count": 5,
   "metadata": {},
   "outputs": [
    {
     "data": {
      "text/html": [
       "<div>\n",
       "<style scoped>\n",
       "    .dataframe tbody tr th:only-of-type {\n",
       "        vertical-align: middle;\n",
       "    }\n",
       "\n",
       "    .dataframe tbody tr th {\n",
       "        vertical-align: top;\n",
       "    }\n",
       "\n",
       "    .dataframe thead th {\n",
       "        text-align: right;\n",
       "    }\n",
       "</style>\n",
       "<table border=\"1\" class=\"dataframe\">\n",
       "  <thead>\n",
       "    <tr style=\"text-align: right;\">\n",
       "      <th></th>\n",
       "      <th>temperature</th>\n",
       "      <th>gender</th>\n",
       "      <th>heart_rate</th>\n",
       "    </tr>\n",
       "  </thead>\n",
       "  <tbody>\n",
       "    <tr>\n",
       "      <th>0</th>\n",
       "      <td>99.3</td>\n",
       "      <td>F</td>\n",
       "      <td>68.0</td>\n",
       "    </tr>\n",
       "    <tr>\n",
       "      <th>1</th>\n",
       "      <td>98.4</td>\n",
       "      <td>F</td>\n",
       "      <td>81.0</td>\n",
       "    </tr>\n",
       "    <tr>\n",
       "      <th>2</th>\n",
       "      <td>97.8</td>\n",
       "      <td>M</td>\n",
       "      <td>73.0</td>\n",
       "    </tr>\n",
       "    <tr>\n",
       "      <th>3</th>\n",
       "      <td>99.2</td>\n",
       "      <td>F</td>\n",
       "      <td>66.0</td>\n",
       "    </tr>\n",
       "    <tr>\n",
       "      <th>4</th>\n",
       "      <td>98.0</td>\n",
       "      <td>F</td>\n",
       "      <td>73.0</td>\n",
       "    </tr>\n",
       "  </tbody>\n",
       "</table>\n",
       "</div>"
      ],
      "text/plain": [
       "   temperature gender  heart_rate\n",
       "0         99.3      F        68.0\n",
       "1         98.4      F        81.0\n",
       "2         97.8      M        73.0\n",
       "3         99.2      F        66.0\n",
       "4         98.0      F        73.0"
      ]
     },
     "execution_count": 5,
     "metadata": {},
     "output_type": "execute_result"
    }
   ],
   "source": [
    "df.head(5)"
   ]
  },
  {
   "cell_type": "code",
   "execution_count": 6,
   "metadata": {},
   "outputs": [],
   "source": [
    "# ECDF function.\n",
    "#\n",
    "def ecdf(data):\n",
    "    \"\"\" Compute ECDF for a one-dimensional array of measurements \"\"\"\n",
    "     \n",
    "    # Numer of data points: n\n",
    "    n = len(data)\n",
    "     \n",
    "    # x-data for the ecdf: x\n",
    "    x = np.sort(data)\n",
    "     \n",
    "    # y-data for the ecdf: y\n",
    "    y = np.arange(1, len(x) + 1) / n\n",
    "     \n",
    "    return x, y"
   ]
  },
  {
   "cell_type": "code",
   "execution_count": 7,
   "metadata": {
    "scrolled": true
   },
   "outputs": [
    {
     "data": {
      "image/png": "[encoded data removed]",
      "text/plain": [
       "<Figure size 432x288 with 1 Axes>"
      ]
     },
     "metadata": {},
     "output_type": "display_data"
    },
    {
     "data": {
      "text/plain": [
       "NormaltestResult(statistic=2.703801433319203, pvalue=0.2587479863488254)"
      ]
     },
     "execution_count": 7,
     "metadata": {},
     "output_type": "execute_result"
    }
   ],
   "source": [
    "# Plot the ECDF of the data.\n",
    "x,y = ecdf(df.temperature)\n",
    "plt.plot(x, y, linestyle='none', marker='.')\n",
    "norm = np.random.normal(np.mean(df.temperature), size=1000)\n",
    "x,y = ecdf(norm)\n",
    "plt.plot(x, y, linestyle='none', marker='.', alpha=0.5)\n",
    "# Formatting\n",
    "plt.xlabel('Temperature')\n",
    "plt.ylabel('ECDF')\n",
    "plt.legend(['Sample ECDF', 'Normal ECDF'], loc='upper left')\n",
    "plt.margins(0.01)\n",
    "plt.show()\n",
    "stats.normaltest(df.temperature)"
   ]
  },
  {
   "cell_type": "code",
   "execution_count": null,
   "metadata": {},
   "outputs": [],
   "source": [
    "#Answer to Question 1\n",
    "    Distribution is normal. Probability of observing a normal distribution from the population is 26%.\n"
   ]
  },
  {
   "cell_type": "code",
   "execution_count": null,
   "metadata": {},
   "outputs": [],
   "source": [
    "2. Is the sample size large? Are the observations independent? \n",
    "\n",
    "We will examing the data set if the sample size is greater or less than 30. \n",
    "We will also examine the data to determine if they are independent (that is, each observation/row is unique)."
   ]
  },
  {
   "cell_type": "code",
   "execution_count": 8,
   "metadata": {},
   "outputs": [
    {
     "name": "stdout",
     "output_type": "stream",
     "text": [
      "130\n"
     ]
    }
   ],
   "source": [
    "num_samples = len(df.temperature)\n",
    "print(num_samples)"
   ]
  },
  {
   "cell_type": "code",
   "execution_count": null,
   "metadata": {},
   "outputs": [],
   "source": [
    "#Answer to Question 2 \n",
    "A sample size greater than 30 is considered large, here we have 130 samples so yes, the sample size is large! \n",
    "Given the information we have, it's impossible to know if the observations are independent."
   ]
  },
  {
   "cell_type": "code",
   "execution_count": 11,
   "metadata": {},
   "outputs": [
    {
     "name": "stdout",
     "output_type": "stream",
     "text": [
      "The temperature column has 130 observations.\n"
     ]
    },
    {
     "data": {
      "text/html": [
       "<div>\n",
       "<style scoped>\n",
       "    .dataframe tbody tr th:only-of-type {\n",
       "        vertical-align: middle;\n",
       "    }\n",
       "\n",
       "    .dataframe tbody tr th {\n",
       "        vertical-align: top;\n",
       "    }\n",
       "\n",
       "    .dataframe thead th {\n",
       "        text-align: right;\n",
       "    }\n",
       "</style>\n",
       "<table border=\"1\" class=\"dataframe\">\n",
       "  <thead>\n",
       "    <tr style=\"text-align: right;\">\n",
       "      <th></th>\n",
       "      <th>temperature</th>\n",
       "      <th>gender</th>\n",
       "      <th>heart_rate</th>\n",
       "    </tr>\n",
       "  </thead>\n",
       "  <tbody>\n",
       "    <tr>\n",
       "      <th>0</th>\n",
       "      <td>99.3</td>\n",
       "      <td>F</td>\n",
       "      <td>68.0</td>\n",
       "    </tr>\n",
       "    <tr>\n",
       "      <th>1</th>\n",
       "      <td>98.4</td>\n",
       "      <td>F</td>\n",
       "      <td>81.0</td>\n",
       "    </tr>\n",
       "    <tr>\n",
       "      <th>2</th>\n",
       "      <td>97.8</td>\n",
       "      <td>M</td>\n",
       "      <td>73.0</td>\n",
       "    </tr>\n",
       "    <tr>\n",
       "      <th>3</th>\n",
       "      <td>99.2</td>\n",
       "      <td>F</td>\n",
       "      <td>66.0</td>\n",
       "    </tr>\n",
       "    <tr>\n",
       "      <th>4</th>\n",
       "      <td>98.0</td>\n",
       "      <td>F</td>\n",
       "      <td>73.0</td>\n",
       "    </tr>\n",
       "  </tbody>\n",
       "</table>\n",
       "</div>"
      ],
      "text/plain": [
       "   temperature gender  heart_rate\n",
       "0         99.3      F        68.0\n",
       "1         98.4      F        81.0\n",
       "2         97.8      M        73.0\n",
       "3         99.2      F        66.0\n",
       "4         98.0      F        73.0"
      ]
     },
     "execution_count": 11,
     "metadata": {},
     "output_type": "execute_result"
    }
   ],
   "source": [
    "print('The temperature column has', len(df['temperature']), 'observations.')\n",
    "df.head()"
   ]
  },
  {
   "cell_type": "code",
   "execution_count": null,
   "metadata": {},
   "outputs": [],
   "source": [
    "3. Is the true population mean really 98.6 degrees F?\n",
    "\n",
    "First, try a bootstrap hypothesis test. \n",
    "Null Hypothesis: True mean population temp = 98.6F\n",
    "Alternative Hypothesis: True mean population temp ≠ 98.6F\n",
    "*Would you use a one-sample or two-sample test? Why? \n",
    "Because we're given just one sample data set, we will try a one-sample test instead of a two-sample test.\n",
    "*In this situation, is it appropriate to use the t or z statistic?\n",
    "T-test, because we're comparing the sample mean to the proposed population mean. Given the data below, \n",
    "the t-statistic is 5.45. This means one would observe a mean of 98.6 at 5.45 standard deviations from our sample mean.\n",
    "Because the P-value is so small, this suggests a very low probability of observing a body temperature of 98.6 or greater."
   ]
  },
  {
   "cell_type": "code",
   "execution_count": 15,
   "metadata": {},
   "outputs": [
    {
     "name": "stdout",
     "output_type": "stream",
     "text": [
      "The T-Statistic is 5 with a p-value of 2.4106320415561276e-07\n"
     ]
    }
   ],
   "source": [
    "mu = 98.6\n",
    "\n",
    "tstat, t_pval = stats.ttest_1samp(a=df['temperature'], popmean=mu)\n",
    "print('The T-Statistic is %d with a p-value of %s' %(abs(tstat),t_pval))"
   ]
  },
  {
   "cell_type": "code",
   "execution_count": null,
   "metadata": {},
   "outputs": [],
   "source": [
    "3. *Now try using the other test. How is the result be different? Why? "
   ]
  },
  {
   "cell_type": "code",
   "execution_count": 16,
   "metadata": {},
   "outputs": [
    {
     "name": "stdout",
     "output_type": "stream",
     "text": [
      "The Z-Statistic is 5 with a p-value of 4.9021570141012155e-08\n"
     ]
    }
   ],
   "source": [
    "from statsmodels.stats.weightstats import ztest\n",
    "z_score, z_pval = ztest(df['temperature'],value=98.6)\n",
    "print('The Z-Statistic is %d with a p-value of %s' %(abs(z_score),z_pval))"
   ]
  },
  {
   "cell_type": "code",
   "execution_count": null,
   "metadata": {},
   "outputs": [],
   "source": [
    "The result is the same with the z-stat test. It suggests that a population mean of 98.6 would be observed \n",
    "more than 5 standard deviations from a population mean as determined by our sample. The difference in these\n",
    "two tests lies in the differences in P-values. The z-test returns a smaller P-value than the t-test, meaning\n",
    "there is an even smaller probability that we would observe a population mean greater than 98.6"
   ]
  },
  {
   "cell_type": "code",
   "execution_count": null,
   "metadata": {},
   "outputs": [],
   "source": [
    "4. Draw a small sample of size 10 from the data and repeat both frequentist tests.\n",
    "\n",
    "*Which one is the correct one to use?\n",
    "The correct test to use is the t-test because our sample size is 10. Z-scores are only usable for sample\n",
    "sizes larger than 30.\n"
   ]
  },
  {
   "cell_type": "code",
   "execution_count": 47,
   "metadata": {},
   "outputs": [
    {
     "name": "stdout",
     "output_type": "stream",
     "text": [
      "[98.7 99.1 98.  98.8 98.3 99.  98.7 97.2 98.2 97.7]\n",
      "p-value for t-test:  0.2617604628821489 , and z-test:  0.23117710850406337\n"
     ]
    }
   ],
   "source": [
    "# Draw a small sample of size 10 from the data\n",
    "small_sample = np.random.choice(df['temperature'], size=10, replace=False)\n",
    "print(small_sample)\n",
    "from scipy.stats import ttest_1samp\n",
    "from statsmodels.stats.weightstats import ztest\n",
    "zt, zp = ztest(small_sample, value=98.6)\n",
    "tt, tp = ttest_1samp(small_sample, popmean=98.6)\n",
    "print('p-value for t-test: ', tp, ', and z-test: ', zp)"
   ]
  },
  {
   "cell_type": "code",
   "execution_count": null,
   "metadata": {},
   "outputs": [],
   "source": [
    "*What do you notice? What does this tell you about the difference in application of the tt and zz statistic?\n",
    "Repeated runs of the two tests on this smaller sample size gives lower p-values from the z-test than from the t-test. \n",
    "This is likely due to the fact that the t-test takes into account the degrees of freedom (n-1=129 in this case), \n",
    "whereas the z-test does not take into account the degrees of freedom. \n",
    "\n",
    "If we can assume that the sample standard deviation is the population standard deviation and it is appropriate \n",
    "to use the z-test, then we have a higher likelihood of rejecting the null hypothesis."
   ]
  },
  {
   "cell_type": "code",
   "execution_count": null,
   "metadata": {},
   "outputs": [],
   "source": [
    "5. At what temperature should we consider someone's temperature to be \"abnormal\"?\n",
    "\n",
    "Compute the margin of error and confidence interval. "
   ]
  },
  {
   "cell_type": "code",
   "execution_count": 49,
   "metadata": {},
   "outputs": [
    {
     "name": "stdout",
     "output_type": "stream",
     "text": [
      "Sample mean is 98.249231 +/- 1.431475.\n",
      "The 95% PI is 96.817756 to 99.680706.\n",
      "Of the 130 sample temperatures, 93.85% are within the interval.\n"
     ]
    }
   ],
   "source": [
    "def calc_pi(data, alpha):\n",
    "    '''return sample mean + PI for given level'''\n",
    "    mean = np.mean(data)\n",
    "    std  = np.std(data)\n",
    "    error = std * stats.norm.ppf(1 - (1-alpha)/2.)\n",
    "    return (mean,error)\n",
    "\n",
    "mean, error = calc_pi(df.temperature, 0.95)   \n",
    "print('Sample mean is %f +/- %f.' % (mean, error))\n",
    "print('The 95%% PI is %f to %f.' % (mean-error, mean+error))\n",
    "\n",
    "normal = ((df.temperature>=(mean-error)) & (df.temperature<=(mean+error))).sum() * 100. / len(df)\n",
    "print('Of the %i sample temperatures, %2.2f%% are within the interval.' % (len(df), normal) )"
   ]
  },
  {
   "cell_type": "code",
   "execution_count": null,
   "metadata": {},
   "outputs": [],
   "source": [
    "This calculation reports that 95% of the population lies between 96.82 and 99.68. \n",
    "Temperatures outside this range would be considered \"abnormal.\" \n",
    "This is roughly confirmed as we calculate almost 94% of the samples inside this predicted range."
   ]
  },
  {
   "cell_type": "code",
   "execution_count": null,
   "metadata": {},
   "outputs": [],
   "source": [
    "6. Is there a significant difference between males and females in normal temperature?\n",
    "\n",
    "What test did you use and why? I'll create 2 new dataframes for gender and then visualize this using a boxplot.\n",
    "Write a story with your conclusion in the context of the original problem. "
   ]
  },
  {
   "cell_type": "code",
   "execution_count": 50,
   "metadata": {},
   "outputs": [],
   "source": [
    "male_df = df[df.gender.str.contains('M')]\n",
    "female_df = df[df.gender.str.contains('F')]"
   ]
  },
  {
   "cell_type": "code",
   "execution_count": 51,
   "metadata": {},
   "outputs": [
    {
     "data": {
      "image/png": "[encoded data removed]",
      "text/plain": [
       "<Figure size 432x288 with 2 Axes>"
      ]
     },
     "metadata": {},
     "output_type": "display_data"
    }
   ],
   "source": [
    "df[['gender', 'temperature']].groupby('gender').boxplot(return_type='axes')\n",
    "plt.show()"
   ]
  },
  {
   "cell_type": "code",
   "execution_count": null,
   "metadata": {},
   "outputs": [],
   "source": [
    "There's a difference here but the means are both within the IQR (interquartile range) of each other. \n",
    "Let's calculate further with a 2-sample t-test with these means we've gathered."
   ]
  },
  {
   "cell_type": "code",
   "execution_count": 52,
   "metadata": {},
   "outputs": [
    {
     "data": {
      "text/plain": [
       "Ttest_indResult(statistic=-2.2854345381656103, pvalue=0.02393188312239561)"
      ]
     },
     "execution_count": 52,
     "metadata": {},
     "output_type": "execute_result"
    }
   ],
   "source": [
    "stats.ttest_ind(male_df.temperature, female_df.temperature)"
   ]
  },
  {
   "cell_type": "code",
   "execution_count": 53,
   "metadata": {},
   "outputs": [
    {
     "name": "stdout",
     "output_type": "stream",
     "text": [
      "Male  \t| Sample mean is 98.104615 +/- 0.168558.\n",
      "      \t| The 95% CI is 97.936057 to 98.273174.\n",
      "\n",
      "Female\t| Sample mean is 98.393846 +/- 0.179349.\n",
      "      \t| The 95% CI is 98.214497 to 98.573195.\n"
     ]
    }
   ],
   "source": [
    "def calc_ci(data, alpha):\n",
    "    '''Function to return sample mean and CI for given level'''\n",
    "    mean = np.mean(data)\n",
    "    std  = np.std(data)\n",
    "    std_error = std / np.sqrt(len(data))\n",
    "    error = std_error * stats.norm.ppf(1 - (1-alpha)/2.)\n",
    "    return (mean,error)\n",
    "\n",
    "mean_m, error_m = calc_ci(male_df.temperature, 0.95)\n",
    "print('Male  \\t| Sample mean is %f +/- %f.' % (mean_m, error_m))\n",
    "print('      \\t| The 95%% CI is %f to %f.\\n' % (mean_m-error_m, mean_m+error_m))\n",
    "\n",
    "mean_f, error_f = calc_ci(female_df.temperature, 0.95)\n",
    "print('Female\\t| Sample mean is %f +/- %f.' % (mean_f, error_f))\n",
    "print('      \\t| The 95%% CI is %f to %f.' % (mean_f-error_f, mean_f+error_f))"
   ]
  },
  {
   "cell_type": "code",
   "execution_count": 55,
   "metadata": {},
   "outputs": [
    {
     "data": {
      "image/png": "[encoded data removed]",
      "text/plain": [
       "<Figure size 288x576 with 1 Axes>"
      ]
     },
     "metadata": {},
     "output_type": "display_data"
    }
   ],
   "source": [
    "plt.figure(figsize=(4,8))\n",
    "plt.errorbar(['F','M'], [mean_f, mean_m], [error_f, error_m], marker='.', ms=25, ls='None', lw=4)\n",
    "plt.margins(0.5)\n",
    "plt.xlabel('Gender')\n",
    "plt.ylabel('Temperature')\n",
    "plt.ylim(97.9,98.6)\n",
    "plt.show()"
   ]
  },
  {
   "cell_type": "code",
   "execution_count": null,
   "metadata": {},
   "outputs": [],
   "source": [
    "No, there is not a significant difference."
   ]
  }
 ],
 "metadata": {
  "kernelspec": {
   "display_name": "Python 3",
   "language": "python",
   "name": "python3"
  },
  "language_info": {
   "codemirror_mode": {
    "name": "ipython",
    "version": 3
   },
   "file_extension": ".py",
   "mimetype": "text/x-python",
   "name": "python",
   "nbconvert_exporter": "python",
   "pygments_lexer": "ipython3",
   "version": "3.6.8"
  }
 },
 "nbformat": 4,
 "nbformat_minor": 1
}
